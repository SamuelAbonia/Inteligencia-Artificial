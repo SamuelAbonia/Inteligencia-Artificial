{
 "cells": [
  {
   "cell_type": "markdown",
   "metadata": {},
   "source": [
    "<img  src=http://repository.icesi.edu.co/biblioteca_digital/image/icesi-logo.svg height=\"250\" width=\"250\">\n",
    "\n",
    "**Author: Javier Díaz, Christian Urcuqui**\n",
    "        "
   ]
  },
  {
   "cell_type": "markdown",
   "metadata": {},
   "source": [
    "# Programación tradicional vs. aprendizaje automático"
   ]
  },
  {
   "cell_type": "markdown",
   "metadata": {},
   "source": [
    "Imagínen que ustedes trabajan en el correo, y quieren automatizar el despacho de los paquetes y cartas.\n",
    "\n",
    "Ya disponen de un software que logra capturar las direcciones y separarlas caracter por caracter en imágenes de 8 píxeles x 8 píxeles en escala de grises, tales que 0 es el negro absoluto, y entre mayor el valor más claro el pixel.\n",
    "\n",
    "Ese software además puede inferir, según el lugar de los caracteres en la dirección, si cada caracter es una letra o un dígito, pero su labor se termina ahí. "
   ]
  },
  {
   "cell_type": "markdown",
   "metadata": {},
   "source": [
    "<img src=\"Imagen_0_64x64.png\">"
   ]
  },
  {
   "cell_type": "markdown",
   "metadata": {},
   "source": [
    "## Programación tradicional\n",
    "Ustedes ahora tienen que pensar en 2 programas diferentes: uno que pueda identificar las clases de las imágenes de dígitos (0 a 9) y otro que pueda clasificar los caracteres letra (a-z,A-Z).\n",
    "\n",
    "Centrémonos en el primer problema de clasificación de imágenes de dígitos."
   ]
  },
  {
   "cell_type": "markdown",
   "metadata": {},
   "source": [
    "Consideren que el dataset con las imágenes a tratar ya está disponible en una librería que produce el primer software:"
   ]
  },
  {
   "cell_type": "code",
   "execution_count": 20,
   "metadata": {},
   "outputs": [],
   "source": [
    "from sklearn.datasets import load_digits\n",
    "import pylab as pl"
   ]
  },
  {
   "cell_type": "code",
   "execution_count": 21,
   "metadata": {},
   "outputs": [
    {
     "name": "stdout",
     "output_type": "stream",
     "text": [
      "Se tienen en total: 1797 imágenes\n",
      "[[ 0.  0. 12. 10.  0.  0.  0.  0.]\n",
      " [ 0.  0. 14. 16. 16. 14.  0.  0.]\n",
      " [ 0.  0. 13. 16. 15. 10.  1.  0.]\n",
      " [ 0.  0. 11. 16. 16.  7.  0.  0.]\n",
      " [ 0.  0.  0.  4.  7. 16.  7.  0.]\n",
      " [ 0.  0.  0.  0.  4. 16.  9.  0.]\n",
      " [ 0.  0.  5.  4. 12. 16.  4.  0.]\n",
      " [ 0.  0.  9. 16. 16. 10.  0.  0.]]\n"
     ]
    },
    {
     "data": {
      "text/plain": [
       "<Figure size 432x288 with 0 Axes>"
      ]
     },
     "metadata": {},
     "output_type": "display_data"
    },
    {
     "data": {
      "image/png": "[encoded data removed]",
      "text/plain": [
       "<Figure size 288x288 with 1 Axes>"
      ]
     },
     "metadata": {},
     "output_type": "display_data"
    }
   ],
   "source": [
    "digits = load_digits()\n",
    "pl.gray() # Queremos las imágenes en grises\n",
    "pl.matshow(digits.images[5]) # Imprimir una imagen dada\n",
    "numImagenes = len(digits.images) # Numero de imagenes, len es un método que provee el tamaño del arreglo\n",
    "print(\"Se tienen en total:\", numImagenes, \"imágenes\")\n",
    "print(digits.images[5]) # Ver su representación en pixeles"
   ]
  },
  {
   "cell_type": "markdown",
   "metadata": {},
   "source": [
    "Después de un proceso de etiquetado manual de varios días, realizado por un estudiante de pregrado en ingeniería de sistemas, en el que manualmente se clasificaron las imágenes una a una, se pudo obtener un *ground truth* con las clases reales de cada imagen.\n",
    "\n",
    "Las etiquetas de las imágenes que indican el dígito real se encuentran disponibles:"
   ]
  },
  {
   "cell_type": "code",
   "execution_count": 25,
   "metadata": {},
   "outputs": [
    {
     "name": "stdout",
     "output_type": "stream",
     "text": [
      "6\n"
     ]
    }
   ],
   "source": [
    "y = digits.target # el método nos provee las etiquetas de las imágenes en un arreglo\n",
    "print(y[66])"
   ]
  },
  {
   "cell_type": "markdown",
   "metadata": {},
   "source": [
    "Para poder simplificar la representación de los datos, se pueden aplanar las matrices de pixeles para poner cada imagen en un solo array de 64 pixeles:"
   ]
  },
  {
   "cell_type": "code",
   "execution_count": 26,
   "metadata": {},
   "outputs": [
    {
     "name": "stdout",
     "output_type": "stream",
     "text": [
      "[ 0.  0. 12.  8.  8.  7.  0.  0.  0.  3. 16. 16. 11.  7.  0.  0.  0.  2.\n",
      " 14.  1.  0.  0.  0.  0.  0.  5. 14.  5.  0.  0.  0.  0.  0.  2. 15. 16.\n",
      "  9.  0.  0.  0.  0.  0.  0.  2. 16.  2.  0.  0.  0.  0.  4.  8. 16.  4.\n",
      "  0.  0.  0.  0. 11. 14.  9.  0.  0.  0.]\n"
     ]
    }
   ],
   "source": [
    "X = digits.images.reshape((numImagenes, -1)) # se reducen las dimensiones\n",
    "print(X[25])"
   ]
  },
  {
   "cell_type": "markdown",
   "metadata": {},
   "source": [
    "**Traten de pensar en un programa tradicional que les permita clasificar cualquier imágen de números en el dígito correspondiente.**"
   ]
  },
  {
   "cell_type": "markdown",
   "metadata": {},
   "source": [
    "..."
   ]
  },
  {
   "cell_type": "markdown",
   "metadata": {},
   "source": [
    "..."
   ]
  },
  {
   "cell_type": "markdown",
   "metadata": {},
   "source": [
    "## Aprendizaje automático"
   ]
  },
  {
   "cell_type": "markdown",
   "metadata": {},
   "source": [
    "Con un modelo de **machine learning** se puede realizar esta tarea de una manera bastante sencilla."
   ]
  },
  {
   "cell_type": "code",
   "execution_count": 80,
   "metadata": {},
   "outputs": [],
   "source": [
    "#from sklearn.model_selection import train_test_split\n",
    "from sklearn.naive_bayes import GaussianNB\n",
    "import sklearn.metrics as metrics\n",
    "import pylab as plt\n",
    "\n",
    "gnb = GaussianNB()\n",
    "fit = gnb.fit(X, y)"
   ]
  },
  {
   "cell_type": "markdown",
   "metadata": {},
   "source": [
    "Se pueden evaluar las clases estimadas por el modelo vs. las clases reales"
   ]
  },
  {
   "cell_type": "code",
   "execution_count": 81,
   "metadata": {},
   "outputs": [
    {
     "name": "stdout",
     "output_type": "stream",
     "text": [
      "Reales   : [0 1 2 3 4 5 6 7 8 9 0 1 2 3 4 5 6 7 8 9 0 1 2 3 4]\n",
      "Estimados: [0 1 8 3 4 9 6 7 8 9 0 1 2 3 4 5 6 7 7 3 0 1 2 3 4]\n"
     ]
    }
   ],
   "source": [
    "y_estimado = fit.predict(X)\n",
    "print(\"Reales   :\", y[0:25])\n",
    "print(\"Estimados:\", y_estimado[0:25])"
   ]
  },
  {
   "cell_type": "markdown",
   "metadata": {},
   "source": [
    "Podemos tener una idea más clara de los casos en los que se equivoca el modelo:"
   ]
  },
  {
   "cell_type": "code",
   "execution_count": 83,
   "metadata": {},
   "outputs": [
    {
     "ename": "TypeError",
     "evalue": "'list' object is not callable",
     "output_type": "error",
     "traceback": [
      "\u001b[1;31m---------------------------------------------------------------------------\u001b[0m",
      "\u001b[1;31mTypeError\u001b[0m                                 Traceback (most recent call last)",
      "\u001b[1;32m<ipython-input-83-e9ebed8ddc65>\u001b[0m in \u001b[0;36m<module>\u001b[1;34m()\u001b[0m\n\u001b[1;32m----> 1\u001b[1;33m \u001b[0mimages_and_predictions\u001b[0m \u001b[1;33m=\u001b[0m \u001b[0mlist\u001b[0m\u001b[1;33m(\u001b[0m\u001b[0mzip\u001b[0m\u001b[1;33m(\u001b[0m\u001b[0mdigits\u001b[0m\u001b[1;33m.\u001b[0m\u001b[0mimages\u001b[0m\u001b[1;33m,\u001b[0m \u001b[0my_estimado\u001b[0m\u001b[1;33m)\u001b[0m\u001b[1;33m)\u001b[0m\u001b[1;33m\u001b[0m\u001b[0m\n\u001b[0m\u001b[0;32m      2\u001b[0m \u001b[1;32mfor\u001b[0m \u001b[0mindex\u001b[0m\u001b[1;33m,\u001b[0m \u001b[1;33m(\u001b[0m\u001b[0mimage\u001b[0m\u001b[1;33m,\u001b[0m \u001b[0mprediction\u001b[0m\u001b[1;33m)\u001b[0m \u001b[1;32min\u001b[0m \u001b[0menumerate\u001b[0m\u001b[1;33m(\u001b[0m\u001b[0mimages_and_predictions\u001b[0m\u001b[1;33m[\u001b[0m\u001b[1;33m:\u001b[0m\u001b[1;36m15\u001b[0m\u001b[1;33m]\u001b[0m\u001b[1;33m)\u001b[0m\u001b[1;33m:\u001b[0m\u001b[1;33m\u001b[0m\u001b[0m\n\u001b[0;32m      3\u001b[0m     \u001b[0mplt\u001b[0m\u001b[1;33m.\u001b[0m\u001b[0msubplot\u001b[0m\u001b[1;33m(\u001b[0m\u001b[1;36m3\u001b[0m\u001b[1;33m,\u001b[0m\u001b[1;36m5\u001b[0m\u001b[1;33m,\u001b[0m \u001b[0mindex\u001b[0m\u001b[1;33m+\u001b[0m\u001b[1;36m1\u001b[0m\u001b[1;33m)\u001b[0m \u001b[1;31m#se crean los placeholders de 3x5 filasXcolumnas\u001b[0m\u001b[1;33m\u001b[0m\u001b[0m\n\u001b[0;32m      4\u001b[0m     \u001b[0mplt\u001b[0m\u001b[1;33m.\u001b[0m\u001b[0maxis\u001b[0m\u001b[1;33m(\u001b[0m\u001b[1;34m'off'\u001b[0m\u001b[1;33m)\u001b[0m  \u001b[1;31m#se quitan los ejes\u001b[0m\u001b[1;33m\u001b[0m\u001b[0m\n\u001b[0;32m      5\u001b[0m     \u001b[0mplt\u001b[0m\u001b[1;33m.\u001b[0m\u001b[0mimshow\u001b[0m\u001b[1;33m(\u001b[0m\u001b[0mimage\u001b[0m\u001b[1;33m,\u001b[0m \u001b[0mcmap\u001b[0m\u001b[1;33m=\u001b[0m\u001b[0mplt\u001b[0m\u001b[1;33m.\u001b[0m\u001b[0mcm\u001b[0m\u001b[1;33m.\u001b[0m\u001b[0mgray_r\u001b[0m\u001b[1;33m)\u001b[0m\u001b[1;33m\u001b[0m\u001b[0m\n",
      "\u001b[1;31mTypeError\u001b[0m: 'list' object is not callable"
     ]
    }
   ],
   "source": [
    "images_and_predictions = list(zip(digits.images, y_estimado))\n",
    "for index, (image, prediction) in enumerate(images_and_predictions[:15]):\n",
    "    plt.subplot(3,5, index+1) #se crean los placeholders de 3x5 filasXcolumnas\n",
    "    plt.axis('off')  #se quitan los ejes\n",
    "    plt.imshow(image, cmap=plt.cm.gray_r)\n",
    "    plt.title('Pred: %i' % prediction)\n",
    "plt.show()"
   ]
  },
  {
   "cell_type": "markdown",
   "metadata": {},
   "source": [
    "Nos gustaría tener una idea de la correctitud global del modelo aprendido."
   ]
  },
  {
   "cell_type": "code",
   "execution_count": 70,
   "metadata": {},
   "outputs": [
    {
     "data": {
      "text/plain": [
       "0.8580968280467446"
      ]
     },
     "execution_count": 70,
     "metadata": {},
     "output_type": "execute_result"
    }
   ],
   "source": [
    "metrics.accuracy_score(y, y_estimado)"
   ]
  },
  {
   "cell_type": "markdown",
   "metadata": {},
   "source": [
    "## Tarea \n",
    "\n",
    "Previamente hemos podido utilizar las herramientas de sklearn para cargar las imágenes del dataset notMNIST, a través de pylab visualizamos una muestra y finalmente utilizamos un primer algoritmo de machine learning (Naive Bayes) para el entrenamiento y la predicción de un conjunto de imágenes.\n",
    "\n",
    "Su trabajo es aplicar un método de programación tradicional, es decir, sin usar modelos basados en machine learning. El método debe estar en la capacidad de identificar la etiqueta (el número asignado a la imagen) del conjunto de NotMNIST.\n",
    "\n",
    "Cada pareja de estudiantes se debe encargar de predecir 2 dígitos, específicamente, cada grupo debe seleccionar entre las siguientes opciones de dígitos:\n",
    "\n",
    "+ 1 y 5\n",
    "+ 8 y 2\n",
    "+ 9 y 7\n",
    "+ 0 y 3\n",
    "+ 4 y 6\n",
    "\n",
    "Finalmente, una vez implementado el método, responda la siguiente pregunta, ¿Cuánto fue la exactitud de su método?\n"
   ]
  },
  {
   "cell_type": "code",
   "execution_count": 27,
   "metadata": {},
   "outputs": [
    {
     "name": "stdout",
     "output_type": "stream",
     "text": [
      "51.12359550561798\n"
     ]
    }
   ],
   "source": [
    "y=digits.target #aquí se obtienen las etiquetas de los dígitos\n",
    "list = [] #lista donde van a almacenar las imagenes \n",
    "for i in range(0,len(y)):\n",
    "    if(y[i] == 0):\n",
    "        list.append(digits.images[i])\n",
    "        \n",
    "\n",
    "\n",
    "\n",
    " #for p in list:\n",
    " #   pl.matshow(p)\n",
    "    \n",
    "    #En este metodo identificamos si en la parte superior de la matriz \n",
    "    #tiene la forma de un cero verificando que haya una linea continua de blancos\n",
    "    \n",
    "def identifyZeroTop (digitos):\n",
    "    top=digitos[0:2]\n",
    "    count=0\n",
    "    errorCount=0\n",
    "    \n",
    "    for fila in range(0,len(top)): \n",
    "        for num in range(1,7) :\n",
    "            if(top[0,num]==0.0):\n",
    "                count+=1\n",
    "            if(count==2):\n",
    "                errorCount+=1\n",
    "           \n",
    "    if(errorCount>=2):\n",
    "        return False\n",
    "    else:\n",
    "        return True\n",
    "    #En este metodo identificamos si en la parte inferior de la matriz \n",
    "    #tiene la forma de un cero verificando que haya una linea continua de blancos\n",
    "def identifyZeroBot (digitos):\n",
    "    bottom=digitos[6:8]\n",
    "    \n",
    "    count=0\n",
    "    errorCount=0\n",
    "    \n",
    "    for fila in range(0,len(bottom)): \n",
    "        for num in range(1,7) :\n",
    "            if(bottom[0,num]==0.0):\n",
    "                count+=1\n",
    "            if(count==2):\n",
    "                errorCount+=1\n",
    "           \n",
    "    if(errorCount>=2):\n",
    "        return False\n",
    "    else:\n",
    "        return True\n",
    "    #En este metodo identificamos si en la parte izquierda de la matriz \n",
    "    #tiene la forma de un cero verificando que haya una linea continua de blancos    \n",
    "\n",
    "def identifyZeroLeft(digitos):\n",
    "    left1=[row[1] for row in digitos]\n",
    "    left2=[row[2] for row in digitos]\n",
    "   \n",
    "    errorCount=0\n",
    "    count=0\n",
    "    for num in range(1,8) :\n",
    "        if(left1[num]==0.0):\n",
    "            count+=1\n",
    "        if(count==2):\n",
    "            errorCount+=1\n",
    "        else:\n",
    "            count=0\n",
    "    count=0\n",
    "    for num in range(1,8) :\n",
    "        if(left2[num]==0.0):\n",
    "            count+=1\n",
    "        if(count==2):\n",
    "            errorCount+=1\n",
    "        \n",
    "            \n",
    "    if(errorCount>=2):\n",
    "        return False\n",
    "    else:\n",
    "        return True\n",
    "   #En este metodo identificamos si en la parte derecha de la matriz \n",
    "    #tiene la forma de un cero verificando que haya una linea continua de blancos\n",
    "    \n",
    "def identifyZeroRight(digitos):\n",
    "    right1=[row[5] for row in digitos]\n",
    "    right2=[row[6] for row in digitos]\n",
    "    \n",
    "    errorCount=0\n",
    "    count=0\n",
    "    for num in range(1,8) :\n",
    "        if(right1[num]==0.0):\n",
    "            count+=1\n",
    "        if(count==2):\n",
    "            errorCount+=1\n",
    "        \n",
    "    count=0\n",
    "    \n",
    "    for num in range(1,8) :\n",
    "        if(right1[num]==0.0):\n",
    "            count+=1\n",
    "        if(count==2):\n",
    "            errorCount+=1\n",
    "            \n",
    "    if(errorCount>=2):\n",
    "        return False\n",
    "    else:\n",
    "        return True\n",
    "    \n",
    "   #Este método una la verificación de los métodos que identifican por cuadrantes el cero\n",
    "\n",
    "def identifyZero(digitos):\n",
    "    isZero=identifyZeroTop(digitos)&identifyZeroBot(digitos)&identifyZeroLeft(digitos)&identifyZeroRight(digitos)\n",
    "    return isZero\n",
    "\n",
    "\n",
    "#Este metodo se encarga de sacar la probabilidad de coincidencia de las matrices\n",
    "\n",
    "def probabilidad():\n",
    "    count=0\n",
    "    for zero in list:\n",
    "        \n",
    "        if(identifyZero(zero)):\n",
    "            count+=1\n",
    "    return (count/len(list))*100   \n",
    "\n",
    "print(probabilidad())\n"
   ]
  },
  {
   "cell_type": "code",
   "execution_count": 49,
   "metadata": {},
   "outputs": [
    {
     "name": "stdout",
     "output_type": "stream",
     "text": [
      "55.73770491803278\n",
      "0.07679465776293823\n"
     ]
    },
    {
     "data": {
      "image/png": "[encoded data removed]",
      "text/plain": [
       "<Figure size 288x288 with 1 Axes>"
      ]
     },
     "metadata": {},
     "output_type": "display_data"
    }
   ],
   "source": [
    "y=digits.target #aquí se obtienen las etiquetas de los dígitos\n",
    "list = [] #lista donde van a almacenar las imagenes \n",
    "\n",
    "#esta función agrega en una lista las matrices que representan al número 3\n",
    "for i in range(0,len(y)):\n",
    "    if(y[i] == 3):\n",
    "        list.append(digits.images[i])\n",
    "        \n",
    "\n",
    "matrizPromedio= [[0,0,0,0,0,0,0,0],[0,0,0,0,0,0,0,0],[0,0,0,0,0,0,0,0],[0,0,0,0,0,0,0,0],[0,0,0,0,0,0,0,0],[0,0,0,0,0,0,0,0],[0,0,0,0,0,0,0,0],[0,0,0,0,0,0,0,0]]      \n",
    "incidencia=27    \n",
    "    \n",
    "    #Este metodo genera una matriz promedio a partir de todas las matrices que representan los números tres\n",
    "    #y retorna una matriz que se concidera un promedio de todas las matrices que hay.\n",
    "def sacarMatrizPromedio():\n",
    "    listMatriz=[[0,0,0,0,0,0,0,0],[0,0,0,0,0,0,0,0],[0,0,0,0,0,0,0,0],[0,0,0,0,0,0,0,0],[0,0,0,0,0,0,0,0],[0,0,0,0,0,0,0,0],[0,0,0,0,0,0,0,0],[0,0,0,0,0,0,0,0]]\n",
    "    for k in list:\n",
    "        listMatriz=k\n",
    "        for i in range(8):\n",
    "            for j in range(8):\n",
    "                matrizPromedio[i][j]+= listMatriz[i][j]/len(list)\n",
    "                \n",
    "    for i in range(8):\n",
    "        for j in range(8):\n",
    "            if(matrizPromedio[i][j]<6):\n",
    "                matrizPromedio[i][j]=0\n",
    "            else:\n",
    "                matrizPromedio[i][j]=16\n",
    "    pl.matshow(matrizPromedio)\n",
    "\n",
    "    \n",
    "    # Este método permite comparar una matrizEntrante con la matriz promedio y comparando 55 espacios de cada matriz\n",
    "def compararMatriz(matrizEntrante):\n",
    "    for i in range(8):\n",
    "        for j in range(8):\n",
    "            if(matrizEntrante[i][j]<6):\n",
    "                matrizEntrante[i][j]=0\n",
    "                \n",
    "            else:\n",
    "                matrizEntrante[i][j]=16\n",
    "    match=0\n",
    "    for i in range(8):\n",
    "        for j in range(8):\n",
    "            if(matrizEntrante[i][j]==matrizPromedio[i][j]):\n",
    "                   match=match+1\n",
    "                \n",
    "    if(match>55):        \n",
    "        return True\n",
    "\n",
    "    \n",
    "    #Este metodo calcula la probabilidad dentro de la lista de matrices que solo representa al número tres\n",
    "def probabilidad():\n",
    "    count=0\n",
    "    for tres in list:\n",
    "        \n",
    "        if(compararMatriz(tres)):\n",
    "            count+=1\n",
    "    return (count/len(list))*100\n",
    "\n",
    "    #Este metodo calcula la probabilidad dentro de la lista que posee las matrices que representan a todos los numeros\n",
    "def probabilidadTotal():\n",
    "    count=0\n",
    "    for tres in digits.images:\n",
    "        \n",
    "        if(compararMatriz(tres)):\n",
    "            count+=1\n",
    "    return (count/len(digits.images))\n",
    "\n",
    "sacarMatrizPromedio()\n",
    "\n",
    "print(probabilidad())\n",
    "print(probabilidadTotal())"
   ]
  },
  {
   "cell_type": "code",
   "execution_count": null,
   "metadata": {},
   "outputs": [],
   "source": []
  },
  {
   "cell_type": "code",
   "execution_count": null,
   "metadata": {},
   "outputs": [],
   "source": []
  }
 ],
 "metadata": {
  "kernelspec": {
   "display_name": "Python 3",
   "language": "python",
   "name": "python3"
  },
  "language_info": {
   "codemirror_mode": {
    "name": "ipython",
    "version": 3
   },
   "file_extension": ".py",
   "mimetype": "text/x-python",
   "name": "python",
   "nbconvert_exporter": "python",
   "pygments_lexer": "ipython3",
   "version": "3.6.5"
  }
 },
 "nbformat": 4,
 "nbformat_minor": 2
}
